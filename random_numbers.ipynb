{
 "cells": [
  {
   "cell_type": "code",
   "execution_count": 1,
   "id": "dd0b21ea",
   "metadata": {},
   "outputs": [],
   "source": [
    "# import the random module\n",
    "import random"
   ]
  },
  {
   "cell_type": "code",
   "execution_count": 2,
   "id": "9f96fb4f",
   "metadata": {},
   "outputs": [
    {
     "data": {
      "text/plain": [
       "-10"
      ]
     },
     "execution_count": 2,
     "metadata": {},
     "output_type": "execute_result"
    }
   ],
   "source": [
    "random.randint(-90,90)"
   ]
  },
  {
   "cell_type": "code",
   "execution_count": 3,
   "id": "d7ff1eef",
   "metadata": {},
   "outputs": [
    {
     "data": {
      "text/plain": [
       "0.6390598255553913"
      ]
     },
     "execution_count": 3,
     "metadata": {},
     "output_type": "execute_result"
    }
   ],
   "source": [
    "random.random()"
   ]
  },
  {
   "cell_type": "code",
   "execution_count": 4,
   "id": "70142c8c",
   "metadata": {},
   "outputs": [
    {
     "data": {
      "text/plain": [
       "58.05326881931166"
      ]
     },
     "execution_count": 4,
     "metadata": {},
     "output_type": "execute_result"
    }
   ],
   "source": [
    "random_number= random.randint(-90,89) + random.random()\n",
    "random_number"
   ]
  },
  {
   "cell_type": "code",
   "execution_count": 5,
   "id": "494d0dfc",
   "metadata": {},
   "outputs": [
    {
     "data": {
      "text/plain": [
       "[73.79584810977774,\n",
       " -30.176105039961847,\n",
       " -18.79893512250233,\n",
       " -73.01912401551321,\n",
       " -53.47116791881037,\n",
       " -12.435129151410132,\n",
       " 59.683103128695784,\n",
       " -87.52368722255284,\n",
       " 14.416707776564158,\n",
       " 24.425755784128206]"
      ]
     },
     "execution_count": 5,
     "metadata": {},
     "output_type": "execute_result"
    }
   ],
   "source": [
    "x = 1\n",
    "latitudes = []\n",
    "while x < 11:\n",
    "    random_lat = random.randint(-90, 89) + random.random()\n",
    "    latitudes.append(random_lat)\n",
    "    x += 1\n",
    "latitudes"
   ]
  },
  {
   "cell_type": "code",
   "execution_count": 6,
   "id": "f780b00a",
   "metadata": {},
   "outputs": [
    {
     "data": {
      "text/plain": [
       "-54"
      ]
     },
     "execution_count": 6,
     "metadata": {},
     "output_type": "execute_result"
    }
   ],
   "source": [
    "random.randrange(-90,90,step=1)"
   ]
  },
  {
   "cell_type": "code",
   "execution_count": 7,
   "id": "6484a09c",
   "metadata": {},
   "outputs": [
    {
     "data": {
      "text/plain": [
       "12"
      ]
     },
     "execution_count": 7,
     "metadata": {},
     "output_type": "execute_result"
    }
   ],
   "source": [
    "random.randrange(-90,90,step=3)"
   ]
  },
  {
   "cell_type": "code",
   "execution_count": 8,
   "id": "f3751a5a",
   "metadata": {},
   "outputs": [
    {
     "data": {
      "text/plain": [
       "69.13277989766965"
      ]
     },
     "execution_count": 8,
     "metadata": {},
     "output_type": "execute_result"
    }
   ],
   "source": [
    "random.uniform(-90,90)"
   ]
  },
  {
   "cell_type": "code",
   "execution_count": 9,
   "id": "da5a1338",
   "metadata": {},
   "outputs": [],
   "source": [
    "# Import the NumPy module.\n",
    "import numpy as np"
   ]
  },
  {
   "cell_type": "code",
   "execution_count": 10,
   "id": "b8fa6c51",
   "metadata": {},
   "outputs": [
    {
     "data": {
      "text/plain": [
       "26.836413665605136"
      ]
     },
     "execution_count": 10,
     "metadata": {},
     "output_type": "execute_result"
    }
   ],
   "source": [
    "np.random.uniform(-90.000,90.000)"
   ]
  },
  {
   "cell_type": "code",
   "execution_count": 11,
   "id": "cca294a3",
   "metadata": {},
   "outputs": [
    {
     "data": {
      "text/plain": [
       "array([ 68.18112498, -53.14308625,  80.49046578,   5.58766223,\n",
       "        69.04589779,  57.54010602,  29.42309321,  85.72605021,\n",
       "        15.73789014,  60.01176492,  -8.10802059,   5.40626144,\n",
       "        45.94329579,  62.63632508, -19.64737507, -34.35802745,\n",
       "        22.27981234,  24.04005446, -58.47956502, -31.64944028,\n",
       "       -53.39329642, -49.66823132,  39.09290205,  48.89448468,\n",
       "        78.9374219 , -26.38487446,  27.58137555, -19.27197888,\n",
       "       -18.91675401, -16.28679469, -74.11127031, -81.86404112,\n",
       "        28.17409706,  38.31004069,  26.34032611, -18.31630821,\n",
       "        -6.07770407,  64.74438829,  78.37826249,  51.60104851,\n",
       "       -64.80546059,  63.79157654,  54.2338304 ,  24.75909773,\n",
       "       -38.09065587,  83.4502615 , -31.6518772 , -71.27041168,\n",
       "        -9.95739582,  60.52421273])"
      ]
     },
     "execution_count": 11,
     "metadata": {},
     "output_type": "execute_result"
    }
   ],
   "source": [
    "np.random.uniform(-90.000,90.000,size=50)"
   ]
  },
  {
   "cell_type": "code",
   "execution_count": 12,
   "id": "0190dfe7",
   "metadata": {},
   "outputs": [],
   "source": [
    "# Import timeit.\n",
    "import timeit"
   ]
  },
  {
   "cell_type": "code",
   "execution_count": 13,
   "id": "0a63a3b2",
   "metadata": {},
   "outputs": [
    {
     "name": "stdout",
     "output_type": "stream",
     "text": [
      "16.9 µs ± 237 ns per loop (mean ± std. dev. of 7 runs, 100000 loops each)\n"
     ]
    }
   ],
   "source": [
    "%timeit np.random.uniform(-90.000, 90.000, size=1500)"
   ]
  },
  {
   "cell_type": "code",
   "execution_count": 14,
   "id": "0691cad3",
   "metadata": {},
   "outputs": [
    {
     "name": "stdout",
     "output_type": "stream",
     "text": [
      "2.62 ms ± 129 µs per loop (mean ± std. dev. of 7 runs, 100 loops each)\n"
     ]
    }
   ],
   "source": [
    "def latitudes(size):\n",
    "    latitudes = []\n",
    "    x = 0\n",
    "    while x < (size):\n",
    "        random_lat = random.randint(-90, 90) + random.random()\n",
    "        latitudes.append(random_lat)\n",
    "        x += 1\n",
    "    return latitudes\n",
    "# Call the function with 1500.\n",
    "%timeit latitudes(1500)"
   ]
  },
  {
   "cell_type": "code",
   "execution_count": null,
   "id": "9d7e8045",
   "metadata": {},
   "outputs": [],
   "source": []
  }
 ],
 "metadata": {
  "kernelspec": {
   "display_name": "PythonData",
   "language": "python",
   "name": "pythondata"
  },
  "language_info": {
   "codemirror_mode": {
    "name": "ipython",
    "version": 3
   },
   "file_extension": ".py",
   "mimetype": "text/x-python",
   "name": "python",
   "nbconvert_exporter": "python",
   "pygments_lexer": "ipython3",
   "version": "3.7.13"
  }
 },
 "nbformat": 4,
 "nbformat_minor": 5
}
